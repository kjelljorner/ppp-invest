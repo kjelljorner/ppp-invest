{
 "cells": [
  {
   "cell_type": "code",
   "execution_count": null,
   "metadata": {},
   "outputs": [],
   "source": [
    "from os import PathLike\n",
    "from pathlib import Path\n",
    "\n",
    "import numpy as np\n",
    "import pandas as pd\n",
    "from calculate import calculate_compound\n",
    "from joblib import Parallel, delayed\n",
    "from tqdm import tqdm"
   ]
  },
  {
   "cell_type": "code",
   "execution_count": null,
   "metadata": {},
   "outputs": [],
   "source": [
    "def process_compound(input_file: str | PathLike) -> pd.DataFrame:\n",
    "    try:\n",
    "        results = calculate_compound(str(input_file))\n",
    "    except (ValueError, NotImplementedError, IndexError):\n",
    "        results = {\n",
    "            \"s1_cis\": [np.nan],\n",
    "            \"t1_cis\": [np.nan],\n",
    "            \"exchange_integral\": [np.nan],\n",
    "            \"dsp_scf\": [np.nan],\n",
    "            \"dsp_cis\": [np.nan],\n",
    "            \"homo_lumo_overlap\": [np.nan],\n",
    "            \"oscillator_strength\": [np.nan],\n",
    "        }\n",
    "\n",
    "    # Write output\n",
    "    idx = input_file.stem\n",
    "    data = {\"id\": [idx], **results}\n",
    "    df = pd.DataFrame(data).set_index(\"id\")\n",
    "    return df"
   ]
  },
  {
   "cell_type": "code",
   "execution_count": null,
   "metadata": {},
   "outputs": [],
   "source": [
    "# Take out Snakemake dirs\n",
    "input_path = Path(snakemake.input.path)\n",
    "output_path = snakemake.output.combined\n",
    "log_path = Path(snakemake.log.progress)\n",
    "n_jobs = snakemake.threads"
   ]
  },
  {
   "cell_type": "code",
   "execution_count": null,
   "metadata": {},
   "outputs": [],
   "source": [
    "# Run the calculation in parallel with joblib\n",
    "input_files = list(input_path.glob(\"*.xyz\"))\n",
    "with open(log_path, \"w\") as f:\n",
    "    results = Parallel(n_jobs=n_jobs)(\n",
    "        delayed(process_compound)(input_file)\n",
    "        for input_file in tqdm(input_files, file=f, mininterval=5, maxinterval=5)\n",
    "    )"
   ]
  },
  {
   "cell_type": "code",
   "execution_count": null,
   "metadata": {},
   "outputs": [],
   "source": [
    "# Concatenate the csv files\n",
    "pd.concat(results).to_csv(output_path)"
   ]
  }
 ],
 "metadata": {
  "kernelspec": {
   "display_name": "coulson",
   "language": "python",
   "name": "python3"
  },
  "language_info": {
   "codemirror_mode": {
    "name": "ipython",
    "version": 3
   },
   "file_extension": ".py",
   "mimetype": "text/x-python",
   "name": "python",
   "nbconvert_exporter": "python",
   "pygments_lexer": "ipython3",
   "version": "3.11.4"
  },
  "orig_nbformat": 4
 },
 "nbformat": 4,
 "nbformat_minor": 2
}
