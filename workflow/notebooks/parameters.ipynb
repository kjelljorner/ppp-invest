{
 "cells": [
  {
   "cell_type": "code",
   "execution_count": 34,
   "metadata": {},
   "outputs": [],
   "source": [
    "from pathlib import Path\n",
    "\n",
    "import numpy as np\n",
    "import pandas as pd\n",
    "import yaml\n",
    "from coulson.interface import mol_from_xyz, process_rdkit_mol\n",
    "from coulson.parameters import EA_BH, IP_BH\n",
    "from utils import format_dictionary_for_yaml"
   ]
  },
  {
   "cell_type": "markdown",
   "metadata": {},
   "source": [
    "Loop over all the xyz files and take out the atom types"
   ]
  },
  {
   "cell_type": "code",
   "execution_count": 33,
   "metadata": {},
   "outputs": [],
   "source": [
    "parent_path = Path(snakemake.input.path)\n",
    "xyz_paths = [directory for directory in parent_path.glob(\"*\") if directory.is_dir()]\n",
    "\n",
    "atom_types_all = set()\n",
    "for path in xyz_paths:\n",
    "    for xyz_file in path.glob(\"*.xyz\"):\n",
    "        try:\n",
    "            mol = mol_from_xyz(str(xyz_file))\n",
    "            input_data, mask = process_rdkit_mol(mol)\n",
    "        except (ValueError, NotImplementedError, IndexError):\n",
    "            continue\n",
    "        atom_types_all.update(input_data.atom_types)"
   ]
  },
  {
   "cell_type": "markdown",
   "metadata": {},
   "source": [
    "Create dataframe"
   ]
  },
  {
   "cell_type": "code",
   "execution_count": 37,
   "metadata": {},
   "outputs": [],
   "source": [
    "rows = []\n",
    "for atom_type in atom_types_all:\n",
    "    row = {\n",
    "        \"Atom type\": atom_type,\n",
    "        \"IP (eV)\": IP_BH[atom_type],\n",
    "        \"EA (eV)\": EA_BH[atom_type],\n",
    "    }\n",
    "    rows.append(row)"
   ]
  },
  {
   "cell_type": "code",
   "execution_count": 57,
   "metadata": {},
   "outputs": [],
   "source": [
    "df = pd.DataFrame(rows)\n",
    "df.set_index(\"Atom type\", inplace=True)\n",
    "df.sort_values(\"Atom type\", inplace=True)"
   ]
  },
  {
   "cell_type": "markdown",
   "metadata": {},
   "source": [
    "Save Markdown table"
   ]
  },
  {
   "cell_type": "code",
   "execution_count": 64,
   "metadata": {},
   "outputs": [
    {
     "data": {
      "text/plain": [
       "<IPython.core.display.Markdown object>"
      ]
     },
     "execution_count": 64,
     "metadata": {},
     "output_type": "execute_result"
    }
   ],
   "source": [
    "floatfmt = [None] + [\".2f\"] * 2\n",
    "path_table = snakemake.output.table\n",
    "df.replace(np.nan, None).to_markdown(path_table, floatfmt=floatfmt, missingval=\"-\")"
   ]
  },
  {
   "cell_type": "markdown",
   "metadata": {},
   "source": [
    "Add parameters to be saved"
   ]
  },
  {
   "cell_type": "code",
   "execution_count": null,
   "metadata": {},
   "outputs": [],
   "source": [
    "params = {}\n",
    "params[f\"tab_parameters\"] = \"../\" + path_table\n",
    "with open(snakemake.output.params, \"w\") as f:\n",
    "    yaml.dump(format_dictionary_for_yaml(params, n_dec=2), f)"
   ]
  }
 ],
 "metadata": {
  "kernelspec": {
   "display_name": "coulson",
   "language": "python",
   "name": "python3"
  },
  "language_info": {
   "codemirror_mode": {
    "name": "ipython",
    "version": 3
   },
   "file_extension": ".py",
   "mimetype": "text/x-python",
   "name": "python",
   "nbconvert_exporter": "python",
   "pygments_lexer": "ipython3",
   "version": "3.11.5"
  }
 },
 "nbformat": 4,
 "nbformat_minor": 2
}
