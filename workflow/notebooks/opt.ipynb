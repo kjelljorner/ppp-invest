{
 "cells": [
  {
   "cell_type": "code",
   "execution_count": null,
   "metadata": {},
   "outputs": [],
   "source": [
    "from pathlib import Path\n",
    "\n",
    "import matplotlib as mpl\n",
    "import matplotlib.pyplot as plt\n",
    "import numpy as np\n",
    "import pandas as pd\n",
    "import yaml\n",
    "from utils import (\n",
    "    add_to_variables,\n",
    "    format_dictionary_for_yaml,\n",
    "    load_data,\n",
    "    plot_zero_zero,\n",
    ")\n",
    "\n",
    "plt.style.use(\"default\")\n",
    "mpl.rcParams[\"font.size\"] = 14\n",
    "plot_kwargs = {\"edgecolors\": \"black\", \"linewidths\": 0.5}"
   ]
  },
  {
   "cell_type": "markdown",
   "metadata": {},
   "source": [
    "Define variables and parameters"
   ]
  },
  {
   "cell_type": "code",
   "execution_count": null,
   "metadata": {},
   "outputs": [],
   "source": [
    "params = {}\n",
    "variables = {}"
   ]
  },
  {
   "cell_type": "markdown",
   "metadata": {},
   "source": [
    "Read data"
   ]
  },
  {
   "cell_type": "code",
   "execution_count": null,
   "metadata": {},
   "outputs": [],
   "source": [
    "path_dft = snakemake.input.data_dft\n",
    "path_mmff = snakemake.input.data_mmff\n",
    "path_gfnff = snakemake.input.data_gfnff\n",
    "path_gfn2 = snakemake.input.data_gfn2\n",
    "path_ani1ccx = snakemake.input.data_ani1ccx\n",
    "path_ref = snakemake.input.data_ref\n",
    "df_dft = load_data(path_dft, path_ref).dropna()\n",
    "df_mmff = load_data(path_mmff, path_ref).dropna()\n",
    "df_gfnff = load_data(path_gfnff, path_ref).dropna()\n",
    "df_gfn2 = load_data(path_gfn2, path_ref).dropna()\n",
    "df_ani1ccx = load_data(path_ani1ccx, path_ref).dropna()\n",
    "\n",
    "df_merged_gfnff = pd.merge(\n",
    "    df_dft,\n",
    "    df_gfnff,\n",
    "    left_index=True,\n",
    "    right_index=True,\n",
    "    suffixes=(\"_dft\", \"_gfnff\"),\n",
    ")\n",
    "df_merged_mmff = pd.merge(\n",
    "    df_dft,\n",
    "    df_mmff,\n",
    "    left_index=True,\n",
    "    right_index=True,\n",
    "    suffixes=(\"_dft\", \"_mmff\"),\n",
    ")\n",
    "df_merged_gfn2 = pd.merge(\n",
    "    df_dft,\n",
    "    df_gfn2,\n",
    "    left_index=True,\n",
    "    right_index=True,\n",
    "    suffixes=(\"_dft\", \"_gfn2\"),\n",
    ")\n",
    "df_merged_ani1ccx = pd.merge(\n",
    "    df_dft,\n",
    "    df_ani1ccx,\n",
    "    left_index=True,\n",
    "    right_index=True,\n",
    "    suffixes=(\"_dft\", \"_ani1ccx\"),\n",
    ")"
   ]
  },
  {
   "cell_type": "markdown",
   "metadata": {},
   "source": [
    "Make zero-zero plots"
   ]
  },
  {
   "cell_type": "code",
   "execution_count": null,
   "metadata": {},
   "outputs": [],
   "source": [
    "jobs = (\n",
    "    (\"mmff\", \"MMFF\", df_mmff),\n",
    "    (\"gfnff\", \"GFNFF\", df_gfnff),\n",
    "    (\"gfn2\", \"GFN2-xTB\", df_gfn2),\n",
    "    (\"ani1ccx\", \"ANI-1ccx\", df_ani1ccx),\n",
    "    (\"dft\", \"DFT\", df_dft),\n",
    ")\n",
    "fig, ax = plt.subplots(2, 3, figsize=plt.rcParams[\"figure.figsize\"] * np.array([3, 2]))\n",
    "ax = ax.flatten()\n",
    "ax[5].set_axis_off()\n",
    "all_results = {}\n",
    "for i, (name, label, df) in enumerate(jobs):\n",
    "    # Plot gap at CIS + DSP level\n",
    "    _, _, results = plot_zero_zero(\n",
    "        df,\n",
    "        x_name=\"t1_s1_ref\",\n",
    "        y_name=\"t1_s1_dsp_cis\",\n",
    "        plot_type=\"scatter\",\n",
    "        **plot_kwargs,\n",
    "        ax=ax[i],\n",
    "        legend_loc=\"lower right\",\n",
    "    )\n",
    "    ax[i].set_title(label)\n",
    "    variables = add_to_variables(\n",
    "        variables,\n",
    "        results,\n",
    "        label_calculation=\"opt\",\n",
    "        label_compound=\"gap\",\n",
    "        label_method=name,\n",
    "    )\n",
    "    all_results[label] = results\n",
    "\n",
    "fig.tight_layout()\n",
    "path_figure = snakemake.output.figure_gap\n",
    "fig.savefig(path_figure)\n",
    "variables[f\"fig_opt_gap\"] = \"../\" + str(Path(path_figure).with_suffix(\"\"))\n",
    "\n",
    "# Add parameters to be saved\n",
    "path_table = snakemake.output.table\n",
    "params[f\"tab_opt\"] = \"../\" + path_table\n",
    "\n",
    "# Print tables for the paper\n",
    "df = pd.DataFrame(all_results).T\n",
    "floatfmt = [None] + [\".2f\"] * (len(results) - 4) + [\".0f\"] * 4\n",
    "df.to_markdown(path_table, floatfmt=floatfmt)"
   ]
  },
  {
   "cell_type": "markdown",
   "metadata": {},
   "source": [
    "Plot against DFT"
   ]
  },
  {
   "cell_type": "code",
   "execution_count": null,
   "metadata": {},
   "outputs": [],
   "source": [
    "jobs = (\n",
    "    (\"mmff\", \"MMFF\", df_merged_mmff),\n",
    "    (\"gfnff\", \"GFN-FF\", df_merged_gfnff),\n",
    "    (\"gfn2\", \"GFN2-xTB\", df_merged_gfn2),\n",
    "    (\"ani1ccx\", \"ANI-1ccx\", df_merged_ani1ccx),\n",
    ")\n",
    "fig, ax = plt.subplots(2, 2, figsize=plt.rcParams[\"figure.figsize\"] * np.array([2, 2]))\n",
    "ax = ax.flatten()\n",
    "for i, (name, label, df) in enumerate(jobs):\n",
    "    # Plot singlet\n",
    "    _, _, results = plot_zero_zero(\n",
    "        df,\n",
    "        x_name=\"t1_s1_dsp_cis_dft\",\n",
    "        y_name=f\"t1_s1_dsp_cis_{name}\",\n",
    "        plot_type=\"scatter\",\n",
    "        zero_zero=False,\n",
    "        **plot_kwargs,\n",
    "        fig=fig,\n",
    "        ax=ax[i],\n",
    "        legend_loc=\"lower right\",\n",
    "    )\n",
    "    ax[i].set_title(label)\n",
    "    variables = add_to_variables(\n",
    "        variables,\n",
    "        results,\n",
    "        label_calculation=\"opt\",\n",
    "        label_compound=\"corr\",\n",
    "        label_method=name,\n",
    "    )\n",
    "fig.tight_layout()\n",
    "\n",
    "path_figure = snakemake.output.figure_corr\n",
    "fig.savefig(path_figure)\n",
    "variables[f\"fig_opt_corr\"] = \"../\" + str(Path(path_figure).with_suffix(\"\"))"
   ]
  },
  {
   "cell_type": "markdown",
   "metadata": {},
   "source": [
    "Take out computational time for optimization"
   ]
  },
  {
   "cell_type": "code",
   "execution_count": null,
   "metadata": {},
   "outputs": [],
   "source": [
    "results = {\n",
    "    \"opt_time_mmff\": df_mmff[\"opt_time\"].mean() * 1000,\n",
    "    \"opt_time_gfnff\": df_gfnff[\"opt_time\"].mean() * 1000,\n",
    "    \"opt_time_gfn2\": df_gfn2[\"opt_time\"].mean() * 1000,\n",
    "    \"opt_time_ani1ccx\": df_ani1ccx[\"opt_time\"].mean() * 1000,\n",
    "    \"run_time_mmff\": df_mmff[\"run_time\"].mean() * 1000,\n",
    "    \"run_time_gfnff\": df_gfnff[\"run_time\"].mean() * 1000,\n",
    "    \"run_time_gfn2\": df_gfn2[\"run_time\"].mean() * 1000,\n",
    "    \"run_time_ani1ccx\": df_ani1ccx[\"run_time\"].mean() * 1000,\n",
    "}\n",
    "variables.update(results)"
   ]
  },
  {
   "cell_type": "markdown",
   "metadata": {},
   "source": [
    "Save variables and parameters to file"
   ]
  },
  {
   "cell_type": "code",
   "execution_count": null,
   "metadata": {},
   "outputs": [],
   "source": [
    "path_variables = snakemake.output.variables\n",
    "path_params = snakemake.output.params\n",
    "with open(path_params, \"w\") as f:\n",
    "    yaml.dump(format_dictionary_for_yaml(params, n_dec=2), f)\n",
    "with open(path_variables, \"w\") as f:\n",
    "    yaml.dump(format_dictionary_for_yaml(variables, n_dec=2), f)"
   ]
  }
 ],
 "metadata": {
  "kernelspec": {
   "display_name": "coulson",
   "language": "python",
   "name": "python3"
  },
  "language_info": {
   "codemirror_mode": {
    "name": "ipython",
    "version": 3
   },
   "file_extension": ".py",
   "mimetype": "text/x-python",
   "name": "python",
   "nbconvert_exporter": "python",
   "pygments_lexer": "ipython3",
   "version": "3.11.5"
  }
 },
 "nbformat": 4,
 "nbformat_minor": 2
}
