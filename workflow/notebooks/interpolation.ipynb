{
 "cells": [
  {
   "cell_type": "code",
   "execution_count": null,
   "metadata": {},
   "outputs": [],
   "source": [
    "import string\n",
    "from pathlib import Path\n",
    "\n",
    "import matplotlib as mpl\n",
    "import matplotlib.pyplot as plt\n",
    "import numpy as np\n",
    "import pandas as pd\n",
    "import yaml\n",
    "from utils import (\n",
    "    add_to_variables,\n",
    "    format_dictionary_for_yaml,\n",
    "    load_data,\n",
    "    plot_zero_zero,\n",
    ")"
   ]
  },
  {
   "cell_type": "code",
   "execution_count": null,
   "metadata": {},
   "outputs": [],
   "source": [
    "plt.style.use(\"default\")\n",
    "plot_kwargs = {\"edgecolors\": \"black\", \"linewidths\": 0.5}\n",
    "mpl.rcParams[\"font.size\"] = 14"
   ]
  },
  {
   "cell_type": "markdown",
   "metadata": {},
   "source": [
    "Load DataFrames"
   ]
  },
  {
   "cell_type": "code",
   "execution_count": null,
   "metadata": {},
   "outputs": [],
   "source": [
    "path_interpolation = snakemake.input.data_interpolation\n",
    "path_no_interpolation = snakemake.input.data_no_interpolation\n",
    "path_azaphenalenes_ref = snakemake.input.reference"
   ]
  },
  {
   "cell_type": "code",
   "execution_count": null,
   "metadata": {},
   "outputs": [],
   "source": [
    "df_interpolation = load_data(path_interpolation, path_azaphenalenes_ref).dropna()\n",
    "df_no_interpolation = load_data(path_no_interpolation, path_azaphenalenes_ref).dropna()"
   ]
  },
  {
   "cell_type": "code",
   "execution_count": null,
   "metadata": {},
   "outputs": [],
   "source": [
    "df_merged = pd.merge(\n",
    "    df_interpolation,\n",
    "    df_no_interpolation,\n",
    "    left_index=True,\n",
    "    right_index=True,\n",
    "    suffixes=(\"_interpolation\", \"_no_interpolation\"),\n",
    ")"
   ]
  },
  {
   "cell_type": "markdown",
   "metadata": {},
   "source": [
    "Plot results"
   ]
  },
  {
   "cell_type": "code",
   "execution_count": null,
   "metadata": {},
   "outputs": [],
   "source": [
    "variables = {}\n",
    "label_calculation = \"interpolation\"\n",
    "\n",
    "jobs = (\n",
    "    (\"SCF + DSP\", \"scf\", \"t1_s1_dsp_scf\"),\n",
    "    (\"CIS + DSP\", \"cis\", \"t1_s1_dsp_cis\"),\n",
    ")\n",
    "\n",
    "fig, ax = plt.subplots(1, 2, figsize=plt.rcParams[\"figure.figsize\"] * np.array([2, 1]))\n",
    "\n",
    "# Create subfigure labels\n",
    "for i, ax_ in enumerate(ax):\n",
    "    label = string.ascii_lowercase[i]\n",
    "    ax_.text(\n",
    "        0.05,\n",
    "        0.95,\n",
    "        f\"({label})\",\n",
    "        fontsize=\"large\",\n",
    "        transform=ax_.transAxes,\n",
    "        verticalalignment=\"top\",\n",
    "    )\n",
    "\n",
    "for i, (label_plot, label_method, name) in enumerate(jobs):\n",
    "    print(name)\n",
    "    x_name = name + \"_no_interpolation\"\n",
    "    y_name = name + \"_interpolation\"\n",
    "\n",
    "    _, _, results = plot_zero_zero(\n",
    "        df_merged,\n",
    "        x_name=x_name,\n",
    "        y_name=y_name,\n",
    "        plot_type=\"scatter\",\n",
    "        ax=ax[i],\n",
    "        legend_loc=\"lower right\",\n",
    "        zero_zero=False,\n",
    "        n_dec=3,\n",
    "    )\n",
    "    ax[i].set_label(label_plot)\n",
    "    variables = add_to_variables(\n",
    "        variables,\n",
    "        results,\n",
    "        label_calculation=label_calculation,\n",
    "        label_compound=\"all\",\n",
    "        label_method=label_method,\n",
    "    )\n",
    "display(fig)\n",
    "fig.tight_layout()\n",
    "\n",
    "path_figure = snakemake.output.figure_interpolation\n",
    "variables[f\"fig_interpolation\"] = \"../\" + str(Path(path_figure).with_suffix(\"\"))\n",
    "fig.savefig(path_figure)"
   ]
  },
  {
   "cell_type": "markdown",
   "metadata": {},
   "source": [
    "Save variables for manuscript"
   ]
  },
  {
   "cell_type": "code",
   "execution_count": null,
   "metadata": {},
   "outputs": [],
   "source": [
    "path_variables = snakemake.output.variables\n",
    "with open(path_variables, \"w\") as f:\n",
    "    yaml.dump(format_dictionary_for_yaml(variables, n_dec=3), f)"
   ]
  }
 ],
 "metadata": {
  "kernelspec": {
   "display_name": "coulson",
   "language": "python",
   "name": "python3"
  },
  "language_info": {
   "codemirror_mode": {
    "name": "ipython",
    "version": 3
   },
   "file_extension": ".py",
   "mimetype": "text/x-python",
   "name": "python",
   "nbconvert_exporter": "python",
   "pygments_lexer": "ipython3",
   "version": "3.11.5"
  }
 },
 "nbformat": 4,
 "nbformat_minor": 2
}
