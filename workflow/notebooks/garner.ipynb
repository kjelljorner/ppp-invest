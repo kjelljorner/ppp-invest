{
 "cells": [
  {
   "cell_type": "code",
   "execution_count": null,
   "metadata": {},
   "outputs": [],
   "source": [
    "import re\n",
    "import string\n",
    "from pathlib import Path\n",
    "\n",
    "import matplotlib as mpl\n",
    "import matplotlib.pyplot as plt\n",
    "import numpy as np\n",
    "import pandas as pd\n",
    "import yaml\n",
    "from calculate import calculate_compound\n",
    "from coulson.interface import mol_from_xyz\n",
    "from rdkit import Chem\n",
    "from utils import (\n",
    "    add_to_variables,\n",
    "    format_dictionary_for_yaml,\n",
    "    load_garner,\n",
    "    plot_zero_zero,\n",
    ")\n",
    "\n",
    "plt.style.use(\"default\")\n",
    "mpl.rcParams[\"font.size\"] = 14"
   ]
  },
  {
   "cell_type": "markdown",
   "metadata": {},
   "source": [
    "Load the paths"
   ]
  },
  {
   "cell_type": "code",
   "execution_count": null,
   "metadata": {},
   "outputs": [],
   "source": [
    "path_data_na = snakemake.input.data_non_alternants\n",
    "path_ref_na = snakemake.input.reference_non_alternants\n",
    "\n",
    "path_data_as = snakemake.input.data_avoided_symmetry\n",
    "path_ref_as = snakemake.input.reference_avoided_symmetry\n",
    "\n",
    "path_data_sub = snakemake.input.data_substituted\n",
    "path_ref_sub = snakemake.input.reference_substituted\n",
    "\n",
    "path_xyz_na = snakemake.input.xyz_non_alternants\n",
    "path_xyz_as = snakemake.input.xyz_avoided_symmetry\n",
    "path_xyz_sub = snakemake.input.xyz_substituted\n",
    "\n",
    "path_lc = snakemake.input.corr"
   ]
  },
  {
   "cell_type": "markdown",
   "metadata": {},
   "source": [
    "Open the dataframes"
   ]
  },
  {
   "cell_type": "code",
   "execution_count": null,
   "metadata": {},
   "outputs": [],
   "source": [
    "df_na = load_garner(path_data_na, path_ref_na, path_lc)\n",
    "df_as = load_garner(path_data_as, path_ref_as, path_lc)\n",
    "df_sub = load_garner(path_data_sub, path_ref_sub, path_lc)"
   ]
  },
  {
   "cell_type": "markdown",
   "metadata": {},
   "source": [
    "Check which compounds overlap"
   ]
  },
  {
   "cell_type": "code",
   "execution_count": null,
   "metadata": {},
   "outputs": [],
   "source": [
    "path_rational = snakemake.input.reference_rational\n",
    "df_rational = pd.read_csv(path_rational, index_col=0)"
   ]
  },
  {
   "cell_type": "code",
   "execution_count": null,
   "metadata": {},
   "outputs": [],
   "source": [
    "df_rational[\"smiles_canon\"] = df_rational[\"smiles\"].apply(\n",
    "    lambda x: Chem.MolToSmiles(Chem.MolFromSmiles(x))\n",
    ")"
   ]
  },
  {
   "cell_type": "code",
   "execution_count": null,
   "metadata": {},
   "outputs": [],
   "source": [
    "for name, df, path in (\n",
    "    (\"non_alternants\", df_na, path_xyz_na),\n",
    "    (\"avoided_symmetry\", df_as, path_xyz_as),\n",
    "    (\"substituted\", df_sub, path_xyz_sub),\n",
    "):\n",
    "    canon_smiles = []\n",
    "    for i, row in df.iterrows():\n",
    "        mol = mol_from_xyz(f\"{path}/{i}.xyz\")\n",
    "        smiles = Chem.MolToSmiles(Chem.RemoveHs(mol))\n",
    "        canon_smiles.append(smiles)\n",
    "    df[\"smiles_canon\"] = canon_smiles"
   ]
  },
  {
   "cell_type": "code",
   "execution_count": null,
   "metadata": {},
   "outputs": [],
   "source": [
    "df_overlap_na = pd.merge(df_na, df_rational, how=\"inner\", on=[\"smiles_canon\"])\n",
    "df_overlap_as = pd.merge(df_as, df_rational, how=\"inner\", on=[\"smiles_canon\"])\n",
    "df_overlap_sub = pd.merge(df_sub, df_rational, how=\"inner\", on=[\"smiles_canon\"])"
   ]
  },
  {
   "cell_type": "code",
   "execution_count": null,
   "metadata": {},
   "outputs": [],
   "source": [
    "df_overlap_all = pd.concat([df_overlap_sub, df_overlap_na, df_overlap_as])\n",
    "print(\"Number of duplicates:\", df_overlap_all.duplicated(subset=\"smiles_canon\").sum())\n",
    "df_overlap_all_nodup = df_overlap_all.drop_duplicates()\n",
    "df_overlap_all_nodup[\"smiles_canon\"]"
   ]
  },
  {
   "cell_type": "markdown",
   "metadata": {},
   "source": [
    "Investigate failure modes for substituted compounds"
   ]
  },
  {
   "cell_type": "code",
   "execution_count": null,
   "metadata": {},
   "outputs": [],
   "source": [
    "df = pd.read_csv(path_data_sub)\n",
    "df[df.isna().any(axis=1)]\n",
    "\n",
    "for i, row in df[df.isna().any(axis=1)].iterrows():\n",
    "    path_xyz = f\"{path_xyz_sub}/{row['id']}.xyz\"\n",
    "    mol = mol_from_xyz(path_xyz)\n",
    "    try:\n",
    "        calculate_compound(path_xyz)\n",
    "    except Exception as e:\n",
    "        print(e)\n",
    "    display(mol)"
   ]
  },
  {
   "cell_type": "markdown",
   "metadata": {},
   "source": [
    "Plot the data"
   ]
  },
  {
   "cell_type": "code",
   "execution_count": null,
   "metadata": {},
   "outputs": [],
   "source": [
    "variables = {}\n",
    "params = {}"
   ]
  },
  {
   "cell_type": "code",
   "execution_count": null,
   "metadata": {},
   "outputs": [],
   "source": [
    "plot_kwargs = {\"edgecolors\": \"black\", \"linewidths\": 0.5}\n",
    "\n",
    "fig, ax = plt.subplots(1, 3, figsize=plt.rcParams[\"figure.figsize\"] * np.array([3, 1]))\n",
    "\n",
    "# Create subfigure labels\n",
    "for i, ax_ in enumerate(ax):\n",
    "    label = string.ascii_lowercase[i]\n",
    "    ax_.text(\n",
    "        0.05,\n",
    "        0.95,\n",
    "        f\"({label})\",\n",
    "        fontsize=\"large\",\n",
    "        transform=ax_.transAxes,\n",
    "        verticalalignment=\"top\",\n",
    "    )\n",
    "\n",
    "jobs = (\n",
    "    (\"Non-alternants\", df_na, df_overlap_na),\n",
    "    (\"Avoided symmetry\", df_as, df_overlap_as),\n",
    "    (\"Substituted\", df_sub, df_overlap_sub),\n",
    ")\n",
    "\n",
    "\n",
    "all_results = {}\n",
    "x_name = \"t1_s1_cc2_aug_dz\"\n",
    "y_name = \"t1_s1_dsp_cis_corr\"\n",
    "for i, (label, df, df_overlap) in enumerate(jobs):\n",
    "    df_overlap.dropna(subset=[x_name, y_name]).plot.scatter(\n",
    "        x=x_name,\n",
    "        y=y_name,\n",
    "        linestyle=\"--\",\n",
    "        edgecolors=\"black\",\n",
    "        c=\"none\",\n",
    "        s=100,\n",
    "        ax=ax[i],\n",
    "        zorder=0,\n",
    "        label=\"In training set\",\n",
    "    )\n",
    "\n",
    "    df[df[\"instability\"] == True].dropna(subset=[x_name, y_name]).plot.scatter(\n",
    "        x=x_name,\n",
    "        y=y_name,\n",
    "        c=\"red\",\n",
    "        alpha=0.25,\n",
    "        s=100,\n",
    "        ax=ax[i],\n",
    "        zorder=0,\n",
    "        label=\"Instability\",\n",
    "    )\n",
    "    _, _, results = plot_zero_zero(\n",
    "        df.dropna(subset=[x_name, y_name]),\n",
    "        x_name=x_name,\n",
    "        y_name=y_name,\n",
    "        ax=ax[i],\n",
    "        legend_loc=\"lower right\",\n",
    "        **plot_kwargs,\n",
    "    )\n",
    "\n",
    "    ax[i].set_title(label)\n",
    "\n",
    "    all_results[label] = results\n",
    "display(fig)\n",
    "\n",
    "fig.tight_layout()\n",
    "path_figure = snakemake.output.figure_gaps\n",
    "variables[f\"fig_garner_gaps\"] = \"../\" + str(Path(path_figure).with_suffix(\"\"))\n",
    "fig.savefig(path_figure)\n",
    "\n",
    "# Add results to variables\n",
    "for label, results in all_results.items():\n",
    "    variables = add_to_variables(\n",
    "        variables,\n",
    "        results,\n",
    "        label_calculation=\"garner\",\n",
    "        label_compound=\"gaps\",\n",
    "        label_method=\"_\".join(re.split(\" |-\", label.lower())),\n",
    "    )\n",
    "\n",
    "# Add parameters to be saved\n",
    "path_table = snakemake.output.table_gaps\n",
    "params[f\"tab_garner_gaps\"] = \"../\" + path_table\n",
    "\n",
    "# Print tables for the paper\n",
    "df = pd.DataFrame(all_results).T\n",
    "floatfmt = [None] + [\".2f\"] * (len(results) - 4) + [\".0f\"] * 4\n",
    "df.to_markdown(path_table, floatfmt=floatfmt)"
   ]
  },
  {
   "cell_type": "markdown",
   "metadata": {},
   "source": [
    "Save data to file"
   ]
  },
  {
   "cell_type": "code",
   "execution_count": null,
   "metadata": {},
   "outputs": [],
   "source": [
    "with open(snakemake.output.params, \"w\") as f:\n",
    "    yaml.dump(format_dictionary_for_yaml(params, n_dec=2), f)\n",
    "with open(snakemake.output.variables, \"w\") as f:\n",
    "    yaml.dump(format_dictionary_for_yaml(variables, n_dec=2), f)"
   ]
  }
 ],
 "metadata": {
  "kernelspec": {
   "display_name": "coulson",
   "language": "python",
   "name": "python3"
  },
  "language_info": {
   "codemirror_mode": {
    "name": "ipython",
    "version": 3
   },
   "file_extension": ".py",
   "mimetype": "text/x-python",
   "name": "python",
   "nbconvert_exporter": "python",
   "pygments_lexer": "ipython3",
   "version": "3.11.5"
  },
  "orig_nbformat": 4
 },
 "nbformat": 4,
 "nbformat_minor": 2
}
