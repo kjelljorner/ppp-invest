{
 "cells": [
  {
   "cell_type": "code",
   "execution_count": null,
   "metadata": {},
   "outputs": [],
   "source": [
    "from pathlib import Path\n",
    "\n",
    "import matplotlib.pyplot as plt\n",
    "import numpy as np\n",
    "import pandas as pd\n",
    "import yaml\n",
    "from coulson.data import EV_TO_KCAL, HARTREE_TO_EV, HARTREE_TO_KCAL\n",
    "from coulson.interface import gen_coords_for_mol, mol_from_xyz\n",
    "from rdkit import Chem\n",
    "from utils import compute_mol_qualitative\n",
    "\n",
    "plt.style.use(\"default\")"
   ]
  },
  {
   "cell_type": "code",
   "execution_count": null,
   "metadata": {},
   "outputs": [],
   "source": [
    "path_azaphenalene = Path(snakemake.input.path_azaphenalene) / \"1.xyz\"\n",
    "path_pentalene = Path(snakemake.input.path_pentalene) / \"IV_1.xyz\"\n",
    "\n",
    "mol_azaphenalene = mol_from_xyz(str(path_azaphenalene))\n",
    "mol_pentalene = mol_from_xyz(str(path_pentalene))\n",
    "mol_pentalene_ideal = mol_from_xyz(str(path_pentalene))\n",
    "_ = gen_coords_for_mol(mol_pentalene_ideal)"
   ]
  },
  {
   "cell_type": "code",
   "execution_count": null,
   "metadata": {},
   "outputs": [],
   "source": [
    "jobs = (\n",
    "    (\n",
    "        \"azaphenalene\",\n",
    "        mol_azaphenalene,\n",
    "        snakemake.output.azaphenalene_orbitals,\n",
    "        snakemake.output.azaphenalene_excitations,\n",
    "    ),\n",
    "    (\n",
    "        \"pentalene\",\n",
    "        mol_pentalene,\n",
    "        snakemake.output.pentalene_orbitals,\n",
    "        snakemake.output.pentalene_excitations,\n",
    "    ),\n",
    "    (\n",
    "        \"pentalene_ideal\",\n",
    "        mol_pentalene_ideal,\n",
    "        snakemake.output.pentalene_ideal_orbitals,\n",
    "        snakemake.output.pentalene_ideal_excitations,\n",
    "    ),\n",
    ")\n",
    "variables = {}\n",
    "for name, mol, path_orbitals, path_excitations in jobs:\n",
    "    results, png_orbitals, png_excitations = compute_mol_qualitative(mol)\n",
    "\n",
    "    # Write png files to disk\n",
    "    with open(path_orbitals, \"wb\") as f:\n",
    "        f.write(png_orbitals)\n",
    "    with open(path_excitations, \"wb\") as f:\n",
    "        f.write(png_excitations)\n",
    "\n",
    "    # Collect all variables\n",
    "    for key, value in results.items():\n",
    "        variables[f\"{name}_{key}\"] = value\n",
    "    variables[f\"fig_{name}_orbitals\"] = \"../\" + str(Path(path_orbitals).with_suffix(\"\"))\n",
    "    variables[f\"fig_{name}_excitations\"] = \"../\" + str(\n",
    "        Path(path_excitations).with_suffix(\"\")\n",
    "    )"
   ]
  },
  {
   "cell_type": "markdown",
   "metadata": {},
   "source": [
    "Take out reference data"
   ]
  },
  {
   "cell_type": "code",
   "execution_count": null,
   "metadata": {},
   "outputs": [],
   "source": [
    "# snakemake.input.ref_azaphenalene\n",
    "df = pd.read_csv(snakemake.input.azaphenalene_ref, index_col=0)\n",
    "variables[\"azaphenalene_t1_s1_ref\"] = f\"{df.loc[1]['t1_s1_ref'] * EV_TO_KCAL:.2f}\"\n",
    "\n",
    "# snakemake.input.ref_pentalene\n",
    "df = pd.read_csv(snakemake.input.pentalene_ref, index_col=0)\n",
    "variables[\"pentalene_t1_s1_ref\"] = f\"{df.loc['IV_1']['t1_s1_ref'] * EV_TO_KCAL:.2f}\""
   ]
  },
  {
   "cell_type": "markdown",
   "metadata": {},
   "source": [
    "Write everything YAML for processing by article"
   ]
  },
  {
   "cell_type": "code",
   "execution_count": null,
   "metadata": {},
   "outputs": [],
   "source": [
    "with open(snakemake.output.variables, \"w\") as f:\n",
    "    yaml.dump(variables, f)"
   ]
  }
 ],
 "metadata": {
  "kernelspec": {
   "display_name": "Python 3",
   "language": "python",
   "name": "python3"
  },
  "language_info": {
   "codemirror_mode": {
    "name": "ipython",
    "version": 3
   },
   "file_extension": ".py",
   "mimetype": "text/x-python",
   "name": "python",
   "nbconvert_exporter": "python",
   "pygments_lexer": "ipython3",
   "version": "3.11.5"
  },
  "orig_nbformat": 4
 },
 "nbformat": 4,
 "nbformat_minor": 2
}
