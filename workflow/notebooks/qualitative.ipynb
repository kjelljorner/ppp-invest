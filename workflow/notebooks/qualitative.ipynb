{
 "cells": [
  {
   "cell_type": "code",
   "execution_count": 1,
   "metadata": {},
   "outputs": [],
   "source": [
    "from coulson.interface import process_coordinates, gen_coords_for_mol, process_rdkit_mol\n",
    "from coulson.ppp import calculate_exchange, calculate_dsp, homo_lumo_overlap, PPPCalculator\n",
    "from coulson.draw import draw_mol   \n",
    "from coulson.data import HARTREE_TO_EV\n",
    "from morfeus.io import read_xyz"
   ]
  },
  {
   "cell_type": "code",
   "execution_count": 2,
   "metadata": {},
   "outputs": [],
   "source": [
    "from coulson.parameters import MODERN, BEVERIDGE_HINZE"
   ]
  },
  {
   "cell_type": "code",
   "execution_count": 3,
   "metadata": {},
   "outputs": [],
   "source": [
    "from rdkit import Chem"
   ]
  },
  {
   "cell_type": "code",
   "execution_count": 4,
   "metadata": {},
   "outputs": [],
   "source": [
    "smiles = \"C1=CC2=CC=CC2=C1\"\n",
    "#smiles = \"c1cc2cccc3cccc(c1)-n-2-3\"\n",
    "mol = Chem.MolFromSmiles(smiles)\n",
    "gen_coords_for_mol(mol)\n",
    "input_data, mask = process_rdkit_mol(mol)"
   ]
  },
  {
   "cell_type": "code",
   "execution_count": 5,
   "metadata": {},
   "outputs": [],
   "source": [
    "symbols, coordinates = read_xyz(\"../../data/azaphenalenes_xyz/1.xyz\")\n",
    "input_data, mask = process_coordinates(symbols, coordinates)"
   ]
  },
  {
   "cell_type": "code",
   "execution_count": 6,
   "metadata": {},
   "outputs": [],
   "source": [
    "ppp = PPPCalculator(input_data, parametrization=BEVERIDGE_HINZE)"
   ]
  },
  {
   "cell_type": "code",
   "execution_count": 7,
   "metadata": {},
   "outputs": [],
   "source": [
    "ppp.scf()"
   ]
  },
  {
   "cell_type": "code",
   "execution_count": 8,
   "metadata": {},
   "outputs": [],
   "source": [
    "# Calcualte exchange integral\n",
    "exchange = calculate_exchange(ppp)\n",
    "\n",
    "# Calculate DSP contribution\n",
    "dsp = calculate_dsp(ppp)\n",
    "\n",
    "# Calculate HOMO-LUMO overlap\n",
    "overlap = homo_lumo_overlap(ppp)\n",
    "\n",
    "# Calculate S1 energies and oscillator strengths\n",
    "ppp.ci(n_states=3)\n",
    "energy_s1_cis = (ppp.ci_energies[1] - ppp.ci_energies[0])\n",
    "    \n",
    "oscillator_strength = ppp.oscillator_strengths[0]\n",
    "\n",
    "# Calculate T1 energies\n",
    "ppp.ci(n_states=3, multiplicity=\"triplet\")\n",
    "energy_t1_cis = (ppp.ci_energies[1] - ppp.ci_energies[0])"
   ]
  },
  {
   "cell_type": "code",
   "execution_count": 9,
   "metadata": {},
   "outputs": [],
   "source": [
    "import itertools\n",
    "import numpy as np\n",
    "\n",
    "def calculate_dsp_old(ppp: PPPCalculator) -> float:\n",
    "    \"\"\"Calculate dynamic spin polarization difference with perturbation theory.\n",
    "\n",
    "    Spin polarization difference between singlet and triplet HOMO->LUMO excited states.\n",
    "    Approach from 10.1007/BF00549021. Negative values indicate singlet is more\n",
    "    stabilized than triplet.\n",
    "\n",
    "    Args:\n",
    "        ppp: PPPCalculator object\n",
    "\n",
    "    Returns:\n",
    "        dsp: Stabilization of singlet over triplet (a.u.)\n",
    "    \"\"\"\n",
    "    # Set up variables\n",
    "    n_occupied = ppp.n_occupied\n",
    "    n_virtual = ppp.n_virtual\n",
    "    homo_idx = ppp.homo_idx\n",
    "    lumo_idx = ppp.lumo_idx\n",
    "\n",
    "    # Calculate MO integrals and Fock matrix in MO basis\n",
    "    ppp._setup_mo_integrals()\n",
    "    ppp._setup_fock_matrix_mo()\n",
    "\n",
    "    # Generate all single excitations\n",
    "    single_excitations = list(\n",
    "        itertools.product(\n",
    "            range(n_occupied - 1), range(n_occupied + 1, n_occupied + n_virtual)\n",
    "        )\n",
    "    )\n",
    "\n",
    "    # Do perturbation\n",
    "    s_1_all = []\n",
    "    t_1_all = []\n",
    "    t_2_all = []\n",
    "    for i, j in single_excitations:\n",
    "        k_x = ppp.mo_integrals[i, homo_idx, homo_idx, j]\n",
    "        k_y = ppp.mo_integrals[i, lumo_idx, lumo_idx, j]\n",
    "        gap = ppp.fock_matrix_mo[j, j] - ppp.fock_matrix_mo[i, i]\n",
    "        s_1 = (3 / 2) * (k_x - k_y) ** 2 / gap\n",
    "        t_1 = (1 / 2) * (k_x - k_y) ** 2 / gap\n",
    "        t_2 = (k_x + k_y) ** 2 / gap\n",
    "        s_1_all.append(s_1)\n",
    "        t_1_all.append(t_1)\n",
    "        t_2_all.append(t_2)\n",
    "\n",
    "    # Sum contributions and calculate DSP\n",
    "    s_1 = np.sum(s_1_all)\n",
    "    t_1 = np.sum(t_1_all)\n",
    "    t_2 = np.sum(t_2_all)\n",
    "    dsp: float = -(s_1 - t_1 - t_2)\n",
    "\n",
    "    return dsp"
   ]
  },
  {
   "cell_type": "code",
   "execution_count": 11,
   "metadata": {},
   "outputs": [
    {
     "name": "stdout",
     "output_type": "stream",
     "text": [
      "-0.017745669919750136\n",
      "-0.01807595158617816\n",
      "-0.01807595158617817\n"
     ]
    }
   ],
   "source": [
    "dsp, d = calculate_dsp(ppp, ci=True, energy_s_1=energy_s1_cis, energy_t_1=energy_t1_cis)\n",
    "print(dsp)\n",
    "dsp, d = calculate_dsp(ppp, ci=False)\n",
    "print(dsp)\n",
    "dsp_old = calculate_dsp_old(ppp)\n",
    "print(dsp_old)"
   ]
  },
  {
   "cell_type": "code",
   "execution_count": 78,
   "metadata": {},
   "outputs": [],
   "source": [
    "from IPython.display import SVG\n",
    "from coulson.draw import draw_png_grid\n",
    "from io import BytesIO"
   ]
  },
  {
   "cell_type": "code",
   "execution_count": 79,
   "metadata": {},
   "outputs": [
    {
     "name": "stdout",
     "output_type": "stream",
     "text": [
      "ΔE_ST (CIS): -10.910 kcal/mol\n",
      "ΔE_ST (SCF): -10.705 kcal/mol\n",
      "0 -> 12: 0.078 kcal/mol\n",
      "1 -> 8: -0.014 kcal/mol\n",
      "1 -> 9: -0.026 kcal/mol\n",
      "1 -> 10: -0.514 kcal/mol\n",
      "1 -> 11: -0.279 kcal/mol\n",
      "2 -> 8: -0.026 kcal/mol\n",
      "2 -> 9: -0.014 kcal/mol\n",
      "2 -> 10: -0.279 kcal/mol\n",
      "2 -> 11: -0.514 kcal/mol\n",
      "3 -> 12: -0.937 kcal/mol\n",
      "4 -> 8: -0.016 kcal/mol\n",
      "4 -> 9: -4.204 kcal/mol\n",
      "4 -> 10: -0.010 kcal/mol\n",
      "4 -> 11: -0.177 kcal/mol\n",
      "5 -> 8: -4.205 kcal/mol\n",
      "5 -> 9: -0.016 kcal/mol\n",
      "5 -> 10: -0.177 kcal/mol\n",
      "5 -> 11: -0.010 kcal/mol\n"
     ]
    }
   ],
   "source": [
    "delta_st = energy_s1_cis - energy_t1_cis\n",
    "\n",
    "\n",
    "print(f\"ΔE_ST (CIS): {(delta_st + dsp) * 627.51:.3f} kcal/mol\")\n",
    "print(f\"ΔE_ST (SCF): {(2 * exchange + dsp) * 627.51:.3f} kcal/mol\")\n",
    "\n",
    "for (i, j), dsp_ij in itertools.islice(d.items(), None):\n",
    "    value = dsp_ij[\"dsp\"] * 627.51\n",
    "    if abs(value) > 0.01:\n",
    "        print(f\"{i} -> {j}: {value:.3f} kcal/mol\")\n",
    "    #png_i = draw_mol(mol=mol, properties=ppp.hc.coefficients[i], img_format=\"png\")\n",
    "    #png_j = draw_mol(mol=mol, properties=ppp.hc.coefficients[j], img_format=\"png\")\n",
    "    #fig, ax = draw_png_grid([BytesIO(i) for i in (png_i, png_j)], labels=[i, j])\n",
    "    #display(fig)\n"
   ]
  },
  {
   "cell_type": "code",
   "execution_count": 47,
   "metadata": {},
   "outputs": [
    {
     "data": {
      "text/plain": [
       "-0.014286490840696775"
      ]
     },
     "execution_count": 47,
     "metadata": {},
     "output_type": "execute_result"
    }
   ],
   "source": [
    "sum(d.values())"
   ]
  },
  {
   "cell_type": "code",
   "execution_count": 28,
   "metadata": {},
   "outputs": [
    {
     "data": {
      "text/plain": [
       "-7.046913930792993"
      ]
     },
     "execution_count": 28,
     "metadata": {},
     "output_type": "execute_result"
    }
   ],
   "source": []
  },
  {
   "cell_type": "code",
   "execution_count": null,
   "metadata": {},
   "outputs": [],
   "source": []
  }
 ],
 "metadata": {
  "kernelspec": {
   "display_name": "Python 3",
   "language": "python",
   "name": "python3"
  },
  "language_info": {
   "codemirror_mode": {
    "name": "ipython",
    "version": 3
   },
   "file_extension": ".py",
   "mimetype": "text/x-python",
   "name": "python",
   "nbconvert_exporter": "python",
   "pygments_lexer": "ipython3",
   "version": "3.10.11"
  },
  "orig_nbformat": 4
 },
 "nbformat": 4,
 "nbformat_minor": 2
}
