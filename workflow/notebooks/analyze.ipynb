{
 "cells": [
  {
   "cell_type": "code",
   "execution_count": null,
   "metadata": {},
   "outputs": [],
   "source": [
    "import pandas as pd\n",
    "import matplotlib.pyplot as plt\n",
    "from coulson.data import HARTREE_TO_EV\n",
    "import sklearn.metrics\n",
    "from sklearn.metrics import ConfusionMatrixDisplay"
   ]
  },
  {
   "cell_type": "code",
   "execution_count": null,
   "metadata": {},
   "outputs": [],
   "source": [
    "df_ref = pd.read_csv(\"../../data/reference/rational_design.txt\", delim_whitespace=True, index_col=0)\n",
    "df_ref.index.rename(\"id\", inplace=True)\n",
    "df_ref.columns = [\"s1_ref\", \"t1_ref\", \"t1_s1_ref\", \"oscillator_strength_ref\", ]"
   ]
  },
  {
   "cell_type": "code",
   "execution_count": null,
   "metadata": {},
   "outputs": [],
   "source": [
    "df = pd.read_csv(\"../../results/rational_design/combined.csv\", index_col=0)\n",
    "df[\"t1_s1_ppp\"] = df[\"s1_cis\"] - df[\"t1_cis\"]\n",
    "df[\"t1_s1_dsp_scf\"] = (2 * df[\"exchange_integral\"] + df[\"dsp_scf\"]) * HARTREE_TO_EV\n",
    "df[\"t1_s1_dsp_cis\"] = (df[\"dsp_cis\"] + df[\"t1_s1_ppp\"]) * HARTREE_TO_EV\n",
    "df[\"s1_cis\"] *= HARTREE_TO_EV\n",
    "df[\"t1_cis\"] *= HARTREE_TO_EV"
   ]
  },
  {
   "cell_type": "code",
   "execution_count": null,
   "metadata": {},
   "outputs": [],
   "source": [
    "df_merged = pd.merge(df, df_ref, on=\"id\")"
   ]
  },
  {
   "cell_type": "code",
   "execution_count": null,
   "metadata": {},
   "outputs": [],
   "source": [
    "y = \"t1_s1_dsp_scf\"\n",
    "df_merged.plot.scatter(x=\"t1_s1_ref\", y=y)\n",
    "\n",
    "df_merged[(df_merged[y] < 3.0) & (df_merged[y] > -2.0)].plot.scatter(x=\"t1_s1_ref\", y=y)\n",
    "plt.axhline(0.0)\n",
    "plt.axvline(0.0)\n",
    "y_pred = df_merged[y] < 0\n",
    "y_true = df_merged[\"t1_s1_ref\"] < 0\n",
    "\n",
    "tn, fp, fn, tp = sklearn.metrics.confusion_matrix(y_true, y_pred).ravel()\n",
    "\n",
    "print(f\"True positive: {tp}\")\n",
    "print(f\"True negative: {tn}\")\n",
    "print(f\"False positive: {fp}\")\n",
    "print(f\"False negative: {fn}\")\n",
    "\n",
    "\n",
    "ConfusionMatrixDisplay.from_predictions(y_true, y_pred)"
   ]
  },
  {
   "cell_type": "code",
   "execution_count": null,
   "metadata": {},
   "outputs": [],
   "source": [
    "df_merged.plot.scatter(x=\"t1_ref\", y=\"t1_cis\")"
   ]
  },
  {
   "cell_type": "code",
   "execution_count": null,
   "metadata": {},
   "outputs": [],
   "source": [
    "df_merged.plot.scatter(x=\"s1_ref\", y=\"s1_cis\")"
   ]
  },
  {
   "cell_type": "code",
   "execution_count": null,
   "metadata": {},
   "outputs": [],
   "source": [
    "df = pd.read_csv(\"../../results/azulenes/combined.csv\", index_col=0)\n",
    "df[\"t1_s1_ppp\"] = df[\"s1_cis\"] - df[\"t1_cis\"]\n",
    "df[\"t1_s1_dsp_scf\"] = (2 * df[\"exchange_integral\"] + df[\"dsp_scf\"]) * HARTREE_TO_EV\n",
    "df[\"t1_s1_dsp_cis\"] = (df[\"dsp_cis\"] + df[\"t1_s1_ppp\"]) * HARTREE_TO_EV\n",
    "df[\"s1_cis\"] *= HARTREE_TO_EV\n",
    "df[\"s1_eom\"] *= HARTREE_TO_EV\n",
    "df[\"t1_cis\"] *= HARTREE_TO_EV\n",
    "df[\"t1_eom\"] *= HARTREE_TO_EV\n",
    "df[\"t1_s1_eom\"] = df[\"s1_eom\"] - df[\"t1_eom\"]"
   ]
  },
  {
   "cell_type": "code",
   "execution_count": null,
   "metadata": {},
   "outputs": [],
   "source": [
    "df_ref= pd.read_csv(\"../../data/reference/azulenes.txt\", delimiter=\",\", index_col=0)\n",
    "df_ref.index.rename(\"id\", inplace=True)\n",
    "df_ref.columns = [\"smiles\", \"s1_ref\", \"t1_ref\", \"t1_s1_ref\", \"oscillator_strength_ref\", ]\n",
    "\n",
    "df = pd.read_csv(\"../../results/azulenes/combined.csv\", index_col=0)\n",
    "df[\"t1_s1_ppp\"] = df[\"s1_cis\"] - df[\"t1_cis\"]\n",
    "df[\"t1_s1_dsp_scf\"] = (2 * df[\"exchange_integral\"] + df[\"dsp_scf\"]) * HARTREE_TO_EV\n",
    "df[\"t1_s1_dsp_cis\"] = (df[\"dsp_cis\"] + df[\"t1_s1_ppp\"]) * HARTREE_TO_EV\n",
    "df[\"s1_cis\"] *= HARTREE_TO_EV\n",
    "df[\"s1_eom\"] *= HARTREE_TO_EV\n",
    "df[\"t1_cis\"] *= HARTREE_TO_EV\n",
    "df[\"t1_eom\"] *= HARTREE_TO_EV\n",
    "df[\"t1_s1_eom\"] = df[\"s1_eom\"] - df[\"t1_eom\"]"
   ]
  },
  {
   "cell_type": "code",
   "execution_count": null,
   "metadata": {},
   "outputs": [],
   "source": [
    "df"
   ]
  },
  {
   "cell_type": "code",
   "execution_count": null,
   "metadata": {},
   "outputs": [],
   "source": [
    "df_merged = pd.merge(df, df_ref, on=\"id\")"
   ]
  },
  {
   "cell_type": "code",
   "execution_count": null,
   "metadata": {},
   "outputs": [],
   "source": [
    "df_merged.plot.scatter(x=\"s1_ref\", y=\"s1_eom\")"
   ]
  },
  {
   "cell_type": "code",
   "execution_count": null,
   "metadata": {},
   "outputs": [],
   "source": [
    "df_merged.plot.scatter(x=\"s1_ref\", y=\"s1_cis\")"
   ]
  },
  {
   "cell_type": "code",
   "execution_count": null,
   "metadata": {},
   "outputs": [],
   "source": [
    "df_merged.plot.scatter(x=\"t1_ref\", y=\"t1_cis\")"
   ]
  },
  {
   "cell_type": "code",
   "execution_count": null,
   "metadata": {},
   "outputs": [],
   "source": [
    "df_merged.plot.scatter(x=\"t1_s1_ref\", y=\"t1_s1_dsp_cis\")"
   ]
  },
  {
   "cell_type": "code",
   "execution_count": null,
   "metadata": {},
   "outputs": [],
   "source": [
    "df_ref= pd.read_csv(\"../../data/azaphenalenes.txt\", delimiter=\" \")\n",
    "df_ref"
   ]
  },
  {
   "cell_type": "code",
   "execution_count": null,
   "metadata": {},
   "outputs": [],
   "source": [
    "df_ref= pd.read_csv(\"../../data/azaphenalenes.txt\", delimiter=\" \")\n",
    "df_ref.index.rename(\"id\", inplace=True)\n",
    "df_ref.index += 1\n",
    "df_ref.columns = [\"smiles\", \"s1_ref\", \"t1_ref\", \"t1_s1_ref\", \"oscillator_strength_ref\", ]\n",
    "df_exchange = pd.read_csv(\"../../data/azaphenalenes_exchange.txt\", delimiter=\" \")\n",
    "df_ref[\"exchange_integral_ref\"] = df_exchange[\"EXCINT\"]\n"
   ]
  },
  {
   "cell_type": "code",
   "execution_count": null,
   "metadata": {},
   "outputs": [],
   "source": [
    "df = pd.read_csv(\"../../results/combined.csv\", index_col=0)\n",
    "df[\"t1_s1_ppp\"] = df[\"s1_cis\"] - df[\"t1_cis\"]\n",
    "df[\"t1_s1_dsp_scf\"] = (2 * df[\"exchange_integral\"] + df[\"dsp_scf\"]) * HARTREE_TO_EV\n",
    "df[\"t1_s1_dsp_cis\"] = (df[\"dsp_cis\"] + df[\"t1_s1_ppp\"]) * HARTREE_TO_EV\n",
    "df[\"s1_cis\"] *= HARTREE_TO_EV\n",
    "df[\"s1_eom\"] *= HARTREE_TO_EV\n",
    "df[\"t1_cis\"] *= HARTREE_TO_EV\n",
    "df[\"t1_eom\"] *= HARTREE_TO_EV\n",
    "df[\"t1_s1_eom\"] = df[\"s1_eom\"] - df[\"t1_eom\"]"
   ]
  },
  {
   "cell_type": "code",
   "execution_count": null,
   "metadata": {},
   "outputs": [],
   "source": [
    "df_merged = pd.merge(df, df_ref, on=\"id\")"
   ]
  },
  {
   "cell_type": "code",
   "execution_count": null,
   "metadata": {},
   "outputs": [],
   "source": [
    "df_merged.plot.scatter(x=\"exchange_integral_ref\", y=\"exchange_integral\")"
   ]
  },
  {
   "cell_type": "code",
   "execution_count": null,
   "metadata": {},
   "outputs": [],
   "source": [
    "df_merged.plot.scatter(y=\"s1_eom\", x=\"s1_ref\")"
   ]
  },
  {
   "cell_type": "code",
   "execution_count": null,
   "metadata": {},
   "outputs": [],
   "source": [
    "df_merged.plot.scatter(x=\"s1_cis\", y=\"s1_ref\")"
   ]
  },
  {
   "cell_type": "code",
   "execution_count": null,
   "metadata": {},
   "outputs": [],
   "source": [
    "df_merged.plot.scatter(x=\"t1_cis\", y=\"t1_ref\")"
   ]
  },
  {
   "cell_type": "code",
   "execution_count": null,
   "metadata": {},
   "outputs": [],
   "source": [
    "df_merged.plot.scatter(x=\"t1_eom\", y=\"t1_ref\")"
   ]
  },
  {
   "cell_type": "code",
   "execution_count": null,
   "metadata": {},
   "outputs": [],
   "source": [
    "df_merged.plot.scatter(y=\"t1_s1_eom\", x=\"t1_s1_ref\")"
   ]
  },
  {
   "cell_type": "code",
   "execution_count": null,
   "metadata": {},
   "outputs": [],
   "source": [
    "df_merged.plot.scatter(y=\"t1_s1_dsp_scf\", x=\"t1_s1_ref\")"
   ]
  },
  {
   "cell_type": "code",
   "execution_count": null,
   "metadata": {},
   "outputs": [],
   "source": [
    "df_merged.plot.scatter(y=\"t1_s1_dsp_cis\", x=\"t1_s1_ref\", c=\"oscillator_strength\")"
   ]
  },
  {
   "cell_type": "code",
   "execution_count": null,
   "metadata": {},
   "outputs": [],
   "source": [
    "import numpy as np"
   ]
  },
  {
   "cell_type": "code",
   "execution_count": null,
   "metadata": {},
   "outputs": [],
   "source": [
    "df_merged[\"t1_s1_ref\"].apply(np.ceil)"
   ]
  },
  {
   "cell_type": "code",
   "execution_count": null,
   "metadata": {},
   "outputs": [],
   "source": [
    "import matplotlib.pyplot as plt"
   ]
  },
  {
   "cell_type": "code",
   "execution_count": null,
   "metadata": {},
   "outputs": [],
   "source": [
    "df_merged.plot.scatter(x=\"oscillator_strength_ref\", y=\"oscillator_strength\", c=np.clip(df_merged[\"t1_s1_ref\"], None, 0), colorbar=True)\n"
   ]
  },
  {
   "cell_type": "code",
   "execution_count": null,
   "metadata": {},
   "outputs": [],
   "source": []
  }
 ],
 "metadata": {
  "kernelspec": {
   "display_name": "coulson",
   "language": "python",
   "name": "python3"
  },
  "language_info": {
   "codemirror_mode": {
    "name": "ipython",
    "version": 3
   },
   "file_extension": ".py",
   "mimetype": "text/x-python",
   "name": "python",
   "nbconvert_exporter": "python",
   "pygments_lexer": "ipython3",
   "version": "3.10.11"
  },
  "orig_nbformat": 4
 },
 "nbformat": 4,
 "nbformat_minor": 2
}
