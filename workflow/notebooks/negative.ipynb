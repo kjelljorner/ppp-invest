{
 "cells": [
  {
   "cell_type": "code",
   "execution_count": 1,
   "metadata": {},
   "outputs": [],
   "source": [
    "import pandas as pd"
   ]
  },
  {
   "cell_type": "code",
   "execution_count": 19,
   "metadata": {},
   "outputs": [],
   "source": [
    "path_azaphenalenes = \"../../results/azaphenalenes.csv\"\n",
    "path_azulenes = \"../../results/azulenes.csv\"\n",
    "path_garner_non_alternants = \"../../results/garner_non_alternants.csv\"\n",
    "path_garner_avoided_symmetry = \"../../results/garner_avoided_symmetry.csv\"\n",
    "path_garner_substituted = \"../../results/garner_substituted.csv\"\n",
    "df_azaphenalenes = pd.read_csv(path_azaphenalenes, index_col=0)\n",
    "df_azulenes = pd.read_csv(path_azulenes, index_col=0)\n",
    "df_garner_non_alternants = pd.read_csv(path_garner_non_alternants, index_col=0)\n",
    "df_garner_avoided_symmetry = pd.read_csv(path_garner_avoided_symmetry, index_col=0)\n",
    "df_garner_substituted = pd.read_csv(path_garner_substituted, index_col=0)"
   ]
  },
  {
   "cell_type": "code",
   "execution_count": 20,
   "metadata": {},
   "outputs": [
    {
     "name": "stdout",
     "output_type": "stream",
     "text": [
      "azaphenalenes\n",
      "2\n",
      "0\n",
      "azulenes\n",
      "3\n",
      "0\n",
      "non-alternants\n",
      "1\n",
      "1\n",
      "avoided-symmetry\n",
      "19\n",
      "1\n",
      "substituted\n",
      "12\n",
      "1\n"
     ]
    }
   ],
   "source": [
    "for name, df in (\n",
    "    (\"azaphenalenes\", df_azaphenalenes),\n",
    "    (\"azulenes\", df_azulenes),\n",
    "    (\"non-alternants\", df_garner_non_alternants),\n",
    "    (\"avoided-symmetry\", df_garner_avoided_symmetry),\n",
    "    (\"substituted\", df_garner_substituted),\n",
    "):\n",
    "    print(name)\n",
    "    print((df[\"t1_cis\"] < 0).sum())\n",
    "    print((df[\"s1_cis\"] < 0).sum())"
   ]
  },
  {
   "cell_type": "code",
   "execution_count": 7,
   "metadata": {},
   "outputs": [
    {
     "data": {
      "text/plain": [
       "2"
      ]
     },
     "execution_count": 7,
     "metadata": {},
     "output_type": "execute_result"
    }
   ],
   "source": []
  }
 ],
 "metadata": {
  "kernelspec": {
   "display_name": "coulson",
   "language": "python",
   "name": "python3"
  },
  "language_info": {
   "codemirror_mode": {
    "name": "ipython",
    "version": 3
   },
   "file_extension": ".py",
   "mimetype": "text/x-python",
   "name": "python",
   "nbconvert_exporter": "python",
   "pygments_lexer": "ipython3",
   "version": "3.11.4"
  },
  "orig_nbformat": 4
 },
 "nbformat": 4,
 "nbformat_minor": 2
}
