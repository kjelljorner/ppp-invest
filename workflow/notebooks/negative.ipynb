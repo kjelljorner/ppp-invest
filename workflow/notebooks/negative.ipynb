{
 "cells": [
  {
   "cell_type": "code",
   "execution_count": null,
   "metadata": {},
   "outputs": [],
   "source": [
    "import string\n",
    "from pathlib import Path\n",
    "\n",
    "import cairosvg\n",
    "import matplotlib.pyplot as plt\n",
    "import numpy as np\n",
    "import pandas as pd\n",
    "import skunk\n",
    "import yaml\n",
    "from coulson.draw import draw_mol\n",
    "from matplotlib.offsetbox import AnnotationBbox\n",
    "from rdkit import Chem\n",
    "from utils import (\n",
    "    AXIS_LABELS,\n",
    "    PARENT_SMILES,\n",
    "    add_to_variables,\n",
    "    crop_image,\n",
    "    format_dictionary_for_yaml,\n",
    "    load_data,\n",
    ")\n",
    "\n",
    "plt.style.use(\"default\")"
   ]
  },
  {
   "cell_type": "markdown",
   "metadata": {},
   "source": [
    "Set data to save"
   ]
  },
  {
   "cell_type": "code",
   "execution_count": null,
   "metadata": {},
   "outputs": [],
   "source": [
    "variables = {}\n",
    "params = {}"
   ]
  },
  {
   "cell_type": "markdown",
   "metadata": {},
   "source": [
    "Load data"
   ]
  },
  {
   "cell_type": "code",
   "execution_count": null,
   "metadata": {},
   "outputs": [],
   "source": [
    "path_azaphenalenes = snakemake.input.azaphenalenes\n",
    "path_azulenes = snakemake.input.azulenes\n",
    "path_rational_design = snakemake.input.rational_design\n",
    "\n",
    "path_azaphenalenes_ref = snakemake.input.azaphenalenes_ref\n",
    "path_azulenes_ref = snakemake.input.azulenes_ref\n",
    "path_rational_design_ref = snakemake.input.rational_design_ref\n",
    "\n",
    "df_azaphenalenes = load_data(path_azaphenalenes, path_azaphenalenes_ref).dropna()\n",
    "df_azulenes = load_data(path_azulenes, path_azulenes_ref).dropna()\n",
    "df_rational_design = load_data(path_rational_design, path_rational_design_ref).dropna()"
   ]
  },
  {
   "cell_type": "markdown",
   "metadata": {},
   "source": [
    "Plotting settings"
   ]
  },
  {
   "cell_type": "code",
   "execution_count": null,
   "metadata": {},
   "outputs": [],
   "source": [
    "x_name = \"t1_s1_ref\"\n",
    "y_name = \"t1_s1_dsp_cis\"\n",
    "x_label = AXIS_LABELS[x_name]\n",
    "y_label = AXIS_LABELS[y_name]\n",
    "label_positive = r\"Positive $\\Delta E_T$\"\n",
    "label_negative = r\"Negative $\\Delta E_T$\"\n",
    "plot_kwargs = {\"edgecolors\": \"black\", \"linewidths\": 0.5}"
   ]
  },
  {
   "cell_type": "markdown",
   "metadata": {},
   "source": [
    "## Analyze number of negative excitation energies"
   ]
  },
  {
   "cell_type": "code",
   "execution_count": null,
   "metadata": {},
   "outputs": [],
   "source": [
    "jobs = (\n",
    "    (\"Azaphenalenes\", df_azaphenalenes),\n",
    "    (\"Azulenes\", df_azulenes),\n",
    "    (\"Rational design\", df_rational_design),\n",
    ")\n",
    "\n",
    "fig, ax = plt.subplots(1, 3, figsize=plt.rcParams[\"figure.figsize\"] * np.array([3, 1]))\n",
    "\n",
    "# Create subfigure labels\n",
    "for i, ax_ in enumerate(ax):\n",
    "    label = string.ascii_lowercase[i]\n",
    "    ax_.text(\n",
    "        0.05,\n",
    "        0.95,\n",
    "        f\"({label})\",\n",
    "        fontsize=\"large\",\n",
    "        transform=ax_.transAxes,\n",
    "        verticalalignment=\"top\",\n",
    "    )\n",
    "\n",
    "all_results = {}\n",
    "for i, (\n",
    "    name,\n",
    "    df,\n",
    ") in enumerate(jobs):\n",
    "    n_neg_t1 = (df[\"t1_cis\"] < 0).sum()\n",
    "    n_neg_s1 = (df[\"s1_cis\"] < 0).sum()\n",
    "    n_total = df.shape[0]\n",
    "    results = {\n",
    "        \"N(neg. triplet)\": n_neg_t1,\n",
    "        \"N(neg. singlet)\": n_neg_s1,\n",
    "        \"N(total)\": n_total,\n",
    "        \"%(neg. triplet)\": n_neg_t1 / n_total * 100,\n",
    "        \"%(neg. singlet)\": n_neg_s1 / n_total * 100,\n",
    "    }\n",
    "    all_results[name] = results\n",
    "\n",
    "    variables = add_to_variables(\n",
    "        variables,\n",
    "        results,\n",
    "        label_calculation=\"negative\",\n",
    "        label_compound=\"all\",\n",
    "        label_method=\"_\".join(name.lower().split()),\n",
    "    )\n",
    "\n",
    "    neg_mask = df[\"t1_cis\"] < 0\n",
    "    df[~neg_mask].plot.scatter(\n",
    "        x=\"t1_s1_ref\",\n",
    "        y=\"t1_s1_dsp_cis\",\n",
    "        c=\"C0\",\n",
    "        ax=ax[i],\n",
    "        **plot_kwargs,\n",
    "    )\n",
    "    df[neg_mask].plot.scatter(\n",
    "        x=\"t1_s1_ref\",\n",
    "        y=\"t1_s1_dsp_cis\",\n",
    "        c=\"C1\",\n",
    "        ax=ax[i],\n",
    "        **plot_kwargs,\n",
    "    )\n",
    "    ax[i].set_xlabel(x_label)\n",
    "    ax[i].set_ylabel(y_label)\n",
    "    ax[i].set_title(name)\n",
    "fig.tight_layout()\n",
    "fig.legend(\n",
    "    [label_positive, label_negative],\n",
    "    loc=\"lower center\",\n",
    "    ncol=2,\n",
    "    bbox_to_anchor=(0.5, -0.07),\n",
    "    bbox_transform=fig.transFigure,\n",
    ")\n",
    "\n",
    "# Save figure\n",
    "path_figure = snakemake.output.figure_negative_all\n",
    "variables[f\"fig_negative_all\"] = \"../\" + str(Path(path_figure).with_suffix(\"\"))\n",
    "fig.savefig(path_figure)\n",
    "\n",
    "# Save data to table\n",
    "path_table = snakemake.output.table_negative\n",
    "params[f\"tab_negative\"] = \"../\" + path_table\n",
    "\n",
    "# Print tables for the paper\n",
    "df = pd.DataFrame(all_results).T\n",
    "floatfmt = [None] + [\".0f\"] * 3 + [\".2f\"] * 2\n",
    "df.replace(np.nan, None).to_markdown(path_table, floatfmt=floatfmt, missingval=\"-\")"
   ]
  },
  {
   "cell_type": "markdown",
   "metadata": {},
   "source": [
    "## Rational design"
   ]
  },
  {
   "cell_type": "code",
   "execution_count": null,
   "metadata": {},
   "outputs": [],
   "source": [
    "# Take out scaffold names\n",
    "df_rational_design[\"scaffold\"] = [idx.split(\"_\")[0] for idx in df_rational_design.index]\n",
    "scaffolds = list(PARENT_SMILES.keys())\n",
    "\n",
    "# Make plot\n",
    "n_rows = 4\n",
    "n_columns = 4\n",
    "fig, axs = plt.subplots(\n",
    "    n_columns,\n",
    "    n_rows,\n",
    "    figsize=plt.rcParams[\"figure.figsize\"] * np.array([n_rows, n_columns]),\n",
    ")\n",
    "\n",
    "# Loop over scaffolds\n",
    "scaffold_svgs = {}\n",
    "for i, scaffold in enumerate(scaffolds):\n",
    "    df = df_rational_design[df_rational_design[\"scaffold\"] == scaffold]\n",
    "    neg_mask = df[\"t1_cis\"] < 0\n",
    "\n",
    "    i_row = i // n_rows\n",
    "    i_col = i % n_columns\n",
    "    ax = axs[i_row, i_col]\n",
    "    smiles = PARENT_SMILES[scaffold]\n",
    "    mol = Chem.MolFromSmiles(smiles)\n",
    "    mol_image = draw_mol(mol, img_format=\"svg\")\n",
    "\n",
    "    df[~neg_mask].plot.scatter(x=x_name, y=y_name, c=\"C0\", ax=ax, **plot_kwargs)\n",
    "    df[neg_mask].plot.scatter(x=x_name, y=y_name, c=\"C1\", ax=ax, **plot_kwargs)\n",
    "    ax.set_title(scaffold)\n",
    "    ax.set_xlabel(x_label)\n",
    "    ax.set_ylabel(y_label)\n",
    "\n",
    "    skunk_label = f\"sk_{i}\"\n",
    "\n",
    "    box = skunk.Box(50, 50, gid=skunk_label)\n",
    "    ab = AnnotationBbox(\n",
    "        box, (1, 0), xycoords=\"axes fraction\", box_alignment=(1.1, -0.1)\n",
    "    )\n",
    "    ax.add_artist(ab)\n",
    "    scaffold_svgs[skunk_label] = mol_image\n",
    "fig.tight_layout()\n",
    "fig.legend(\n",
    "    [label_positive, label_negative],\n",
    "    loc=\"lower center\",\n",
    "    ncol=2,\n",
    "    bbox_to_anchor=(0.5, -0.02),\n",
    "    bbox_transform=fig.transFigure,\n",
    ")\n",
    "\n",
    "# Insert SVGs of molecules\n",
    "svg = skunk.insert(scaffold_svgs)\n",
    "png = cairosvg.svg2png(bytestring=svg, dpi=300, background_color=\"white\")\n",
    "png_cropped = crop_image(png)\n",
    "\n",
    "path_figure = snakemake.output.figure_negative_scaffolds\n",
    "with open(path_figure, \"wb\") as f:\n",
    "    f.write(png_cropped)\n",
    "variables[f\"fig_negative_scaffolds\"] = \"../\" + str(Path(path_figure).with_suffix(\"\"))"
   ]
  },
  {
   "cell_type": "markdown",
   "metadata": {},
   "source": [
    "Save the parameters and variables to file"
   ]
  },
  {
   "cell_type": "code",
   "execution_count": null,
   "metadata": {},
   "outputs": [],
   "source": [
    "with open(snakemake.output.params, \"w\") as f:\n",
    "    yaml.dump(format_dictionary_for_yaml(params, n_dec=2), f)\n",
    "with open(snakemake.output.variables, \"w\") as f:\n",
    "    yaml.dump(format_dictionary_for_yaml(variables, n_dec=2), f)"
   ]
  }
 ],
 "metadata": {
  "kernelspec": {
   "display_name": "coulson",
   "language": "python",
   "name": "python3"
  },
  "language_info": {
   "codemirror_mode": {
    "name": "ipython",
    "version": 3
   },
   "file_extension": ".py",
   "mimetype": "text/x-python",
   "name": "python",
   "nbconvert_exporter": "python",
   "pygments_lexer": "ipython3",
   "version": "3.11.4"
  },
  "orig_nbformat": 4
 },
 "nbformat": 4,
 "nbformat_minor": 2
}
